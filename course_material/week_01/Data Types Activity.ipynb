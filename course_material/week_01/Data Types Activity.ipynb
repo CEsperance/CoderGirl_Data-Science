{
 "cells": [
  {
   "cell_type": "markdown",
   "id": "3696508f",
   "metadata": {},
   "source": [
    "# Data Types Activity"
   ]
  },
  {
   "cell_type": "code",
   "execution_count": 1,
   "id": "7bce00ba",
   "metadata": {},
   "outputs": [],
   "source": [
    "# integers are whole numbers\n",
    "# floats are decimals\n",
    "x = 5\n",
    "y = 5.0"
   ]
  },
  {
   "cell_type": "code",
   "execution_count": 2,
   "id": "ee6534a5",
   "metadata": {},
   "outputs": [
    {
     "name": "stdout",
     "output_type": "stream",
     "text": [
      "<class 'int'>\n"
     ]
    }
   ],
   "source": [
    "print(type(x))"
   ]
  },
  {
   "cell_type": "code",
   "execution_count": 3,
   "id": "8fb16b70",
   "metadata": {},
   "outputs": [
    {
     "name": "stdout",
     "output_type": "stream",
     "text": [
      "<class 'float'>\n"
     ]
    }
   ],
   "source": [
    "print(type(y))"
   ]
  },
  {
   "cell_type": "code",
   "execution_count": 6,
   "id": "b0b006a1",
   "metadata": {},
   "outputs": [],
   "source": [
    "# dictonaries are key:value pairs\n",
    "breakfast = {\"pancakes\":17,\n",
    "            \"waffles\":12}"
   ]
  },
  {
   "cell_type": "code",
   "execution_count": 7,
   "id": "97836ef6",
   "metadata": {},
   "outputs": [
    {
     "name": "stdout",
     "output_type": "stream",
     "text": [
      "12\n"
     ]
    }
   ],
   "source": [
    "print(breakfast[\"waffles\"])"
   ]
  },
  {
   "cell_type": "code",
   "execution_count": 8,
   "id": "5d3566fe",
   "metadata": {},
   "outputs": [
    {
     "name": "stdout",
     "output_type": "stream",
     "text": [
      "<class 'bool'>\n"
     ]
    }
   ],
   "source": [
    "#Booleen\n",
    "is_false = True\n",
    "print(type(is_false))"
   ]
  },
  {
   "cell_type": "code",
   "execution_count": 11,
   "id": "03e3d496",
   "metadata": {},
   "outputs": [
    {
     "name": "stdout",
     "output_type": "stream",
     "text": [
      "{'tea', 'pancakes', 'waffles'}\n"
     ]
    }
   ],
   "source": [
    "#sets have unordered values and unchangeable values (immutable)\n",
    "breakfast_set = {\"pancakes\", \"waffles\"}\n",
    "#can add items to a set (but only if its not there yet)\n",
    "breakfast_set.add(\"tea\")\n",
    "\n",
    "print(breakfast_set)"
   ]
  },
  {
   "cell_type": "code",
   "execution_count": 12,
   "id": "bfe7410d",
   "metadata": {},
   "outputs": [
    {
     "data": {
      "text/plain": [
       "'February'"
      ]
     },
     "execution_count": 12,
     "metadata": {},
     "output_type": "execute_result"
    }
   ],
   "source": [
    "#list values can be changed (mutable) and they are ordered\n",
    "months = [\"February\", \"April\", \"August\"]\n",
    "months[0]\n"
   ]
  },
  {
   "cell_type": "code",
   "execution_count": 14,
   "id": "6fae5078",
   "metadata": {},
   "outputs": [
    {
     "data": {
      "text/plain": [
       "'tea'"
      ]
     },
     "execution_count": 14,
     "metadata": {},
     "output_type": "execute_result"
    }
   ],
   "source": [
    "#tuples are ordered but ubchangable (immutable)\n",
    "breakfast_tuple = (\"tea\", \"omelet\", \"waffles\")\n",
    "breakfast_tuple[0]"
   ]
  },
  {
   "cell_type": "code",
   "execution_count": 15,
   "id": "adc6bcff",
   "metadata": {},
   "outputs": [
    {
     "name": "stdout",
     "output_type": "stream",
     "text": [
      "3\n"
     ]
    }
   ],
   "source": [
    "print(len(breakfast_tuple))"
   ]
  },
  {
   "cell_type": "code",
   "execution_count": null,
   "id": "435119bb",
   "metadata": {},
   "outputs": [],
   "source": []
  }
 ],
 "metadata": {
  "kernelspec": {
   "display_name": "Python 3 (ipykernel)",
   "language": "python",
   "name": "python3"
  },
  "language_info": {
   "codemirror_mode": {
    "name": "ipython",
    "version": 3
   },
   "file_extension": ".py",
   "mimetype": "text/x-python",
   "name": "python",
   "nbconvert_exporter": "python",
   "pygments_lexer": "ipython3",
   "version": "3.9.6"
  }
 },
 "nbformat": 4,
 "nbformat_minor": 5
}
